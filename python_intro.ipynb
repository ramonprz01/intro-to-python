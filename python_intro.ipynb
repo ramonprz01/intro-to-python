{
 "cells": [
  {
   "cell_type": "markdown",
   "metadata": {},
   "source": [
    "# Welcome to Intro to Python\n",
    "\n",
    "This tutorial has been provided to you by the Student Succes Center at the John Hopkins Carey Business School. If you are unfamiliar with the Python programming language, and would like to learn more about it, you are in the right place. If you stumble upon this tutorial and are wondering if you should go through it or not, you are also in the right place.\n",
    "\n",
    "This is a short introduction to get you started running and writing Python code in less than an 2 hours. You will not need to install anything right now and will have additional (free) resources to continue your learning journey beyond this lesson. If you have any questions or comments, please send them to ramonprz01@gmail.com and aneuen@jhu.edu.\n",
    "\n",
    "This introduction assumes no prior knowledge of programming and only basic math skills acquired in high school.\n",
    "\n",
    "Why should you learn Python?\n",
    "Python is currently one of the most popular programming languages for data analysis, web applications and websites, and for artificial intelligence. Python is not only fun to learn and use but is also practical in the sense that it allows you to quickly scale your career without having to go back to university for another degree. Recent industry surveys have shown that [python developers](https://neuvoo.com/salary/?job=Python+Developer) make on average \\$120,000; [data scientists using python](https://neuvoo.com/salary/?job=Python+data+scientist) make around $140,000 and the list does not stop there.\n",
    "\n",
    "\n",
    "## Structure of the Tutorial\n",
    "\n",
    "1. Introduction\n",
    "    * What is Python?\n",
    "    * What are the most used Python Libraries?\n",
    "    * What is Data?\n",
    "    * What is Data Analysis?\n",
    "2. Variables and Data Types\n",
    "3. Math in Python\n",
    "4. Loading and Manipulating Data\n",
    "5. Data Analysis\n",
    "6. Conclusion\n",
    "7. Keep improving\n",
    "8. Resources\n",
    "\n",
    "\n",
    "More information on how to continue your learning journey, plus additional resources, will be provided in section 7 of this tutorial."
   ]
  },
  {
   "cell_type": "markdown",
   "metadata": {},
   "source": [
    "### 1. Introduction\n",
    "\n",
    "* __What is Python?__\n",
    "\n",
    "As stated on [python.org](https://www.python.org/doc/essays/blurb/), \"Python is an interpreted, object-oriented, high-level programming language with dynamic semantics.\" This is a more specific way of saying that Python is a general purpose programming language that can be used for tasks ranging from building graphical user interface (GUI) applications to data analytics and machine learning. In fact, Python's popularity in recent years has been driven partly due to its versatility and usage in data analytics and machine learning. It is now one of the (if not the) preferred programming language for data scientists, analysts, and researchers.\n",
    "\n",
    "To run Python code throughout this tutorial all you need to do is to press __Shift-Enter__ and the cell where you are in will be run. Comments in Python will be preceeded by a __#__ sign.\n",
    "\n",
    "As awesome as Python is, it cannot do everything on its own, or at least with the base functionalities it comes with. This is where the beuty of open source comes in. Because Python is free and [open source](https://opensource.com/resources/what-open-source), Python has a vast amount analysts, researchers and developers contributing to its development through [libraries](https://www.quora.com/What-is-a-Python-library-and-what-can-I-use-it-for) that make it easier for users to get the best out of Python. We will not go in detail through all of Python's libraries in this tutorial, as that would not be feasible, but we will briefly introduce some of the most useful ones for data analysis here.\n",
    "\n",
    "* __What are some of the most widely used (and important) Python Libraries?__\n",
    "\n",
    "Python has a plethora of libraries that are used by thousands of users each days. For data analysis, however, the most important ones are NumPy, Pandas, SciKit-Learn, matplotlib, and SciPy. Below you will find a short blurb, the command you use to import each, and the standard aliases used in industry (import \"name of library or module\" as \"nickname\").\n",
    "\n",
    "Note: To load a library into your session you only need to run the cell once.\n",
    "\n",
    "- _Numpy:_\n",
    "Numpy is a scientific computing package that allows anyone to do fast computations using vectors, matrices, and basically a lot of linear algebra. The following code would be what you would write and execute in order to import the library into a session.\n",
    "```python\n",
    "import numpy as np\n",
    "```\n",
    "- _pandas:_\n",
    "pandas is a library that allows us to load, merge, and manipulate dataframes (think of these as excel spreadsheets) before or while we analyze our data.\n",
    "```python\n",
    "import pandas as pd\n",
    "```\n",
    "- _scikit-Learn:_\n",
    "scikit-learn or sk-learn is one of the most widely used libraries for machine learning. Because of its versatily and wide variety of modules (think of these as sub-libraries within sk-learn), one can run almost every machine learning algorithm available with this library.\n",
    "```python\n",
    "from sklearn import * # The asteric means import all modules in the library.\n",
    "```\n",
    "- _SciPy:_\n",
    "The [scipy library](https://www.scipy.org/scipylib/index.html) \"provides many user-friendly and efficient numerical routines such as routines for numerical integration, interpolation, optimization, linear algebra and statistics.\"\n",
    "\n",
    "```python\n",
    "from scipy import *\n",
    "```\n",
    "\n",
    "- _Matplotlib:_\n",
    "As stated on matplotlib's [website](https://matplotlib.org/), \"Matplotlib is a Python 2D plotting library which produces publication quality figures in a variety of hardcopy formats and interactive environments across platforms.\"\n",
    "```python\n",
    "import matplotlib.pyplot as plt\n",
    "```\n",
    "\n",
    "* __What is Data?__\n",
    "\n",
    "<img src=\"data.jpg\">\n",
    "\n",
    "Computer Hope defines __Data__ in the following way: \"data is any set of characters that is gathered and translated for some purpose, usually analysis. It can be any character, including text and numbers, pictures, sound, or video. If data is not put into context, it doesn't do anything to a human or computer.\"\n",
    "\n",
    "In essence, everything we do, from breathing to searching on the web, generates information in different formats and all can be classified as data. It is important to notice, however, that most of the data available in the world is unstructured, meanining not in a nice tabular format like we are used to with excel. We'll dive into the different data types in the next lesson.\n",
    "\n",
    "* __What is Data Analysis?__\n",
    "\n",
    "The best definition of what data analysis is comes from [wikipedia](https://en.wikipedia.org/wiki/Data_analysis) and it says \"Data analysis is a process of inspecting, cleansing, transforming and modeling data with the goal of discovering useful information, informing conclusions and supporting decision-making.\" Think about it this way, whenever we try to make a decision using evidence we need to put the evidence in a format in which we can first make sense of it, second analyze it, and third, provide actionable insight using it. This is in a way the essence of data analysis and the focus of this tutorial.\n",
    "\n",
    "\n",
    "We will now go ahead and import the libraries we will be using in this tutorial."
   ]
  },
  {
   "cell_type": "code",
   "execution_count": 13,
   "metadata": {},
   "outputs": [],
   "source": [
    "# Let's import the libraries we will use throughout this tutorial.\n",
    "\n",
    "import numpy as np\n",
    "import pandas as pd"
   ]
  },
  {
   "cell_type": "markdown",
   "metadata": {},
   "source": [
    "#### Exercise 1\n",
    "Can you import matplilib below with its industry alias. We will need it later on."
   ]
  },
  {
   "cell_type": "code",
   "execution_count": null,
   "metadata": {},
   "outputs": [],
   "source": []
  },
  {
   "cell_type": "markdown",
   "metadata": {},
   "source": [
    "### 2. Variables and Data Types\n",
    "\n",
    "- __Variables__\n",
    "\n",
    "Variables are the fuel of any data analysis, and these same variables can represent a multitude of data types (e.g. word characters \"a, e, i, o, u\", decimal numbers \"10.65\", integers \"1, 2, 3\", etc.). To paint a better picture of what variables are, think of an excel spreadsheet containing different characteristics of a building as the columns (e.g. floor area, address, price, # of rooms/floor, etc.) and different buildings in each row. The columns in this scenario will be the variables, and each number matching a row and a column is a data point showing the specifict characteristic of a building. This is what we refer to as tabular data or, in other words, a dataframe. Groups of variables contanining information can form a dataframe, and these variables can have none to lots of information in them. The picture below shows the example just mentioned.\n",
    "\n",
    "<img src=\"pic1.jpg\">\n",
    "\n",
    "Say we want to create a variable in python with just one data point"
   ]
  },
  {
   "cell_type": "code",
   "execution_count": 8,
   "metadata": {},
   "outputs": [],
   "source": [
    "x = 5"
   ]
  },
  {
   "cell_type": "markdown",
   "metadata": {},
   "source": [
    "Congrats! You just ran your first Python code.\n",
    "\n",
    "The letter x will hold the value of 5 for us and keep it safe until we tell it to do something with it. Let's give x a friend named y."
   ]
  },
  {
   "cell_type": "code",
   "execution_count": 9,
   "metadata": {},
   "outputs": [],
   "source": [
    "y = 7"
   ]
  },
  {
   "cell_type": "markdown",
   "metadata": {},
   "source": [
    "To observe the values of a variable or any other data type available during the session, we will use the command print()."
   ]
  },
  {
   "cell_type": "code",
   "execution_count": 14,
   "metadata": {},
   "outputs": [
    {
     "name": "stdout",
     "output_type": "stream",
     "text": [
      "5 7\n"
     ]
    }
   ],
   "source": [
    "print(x, y)"
   ]
  },
  {
   "cell_type": "markdown",
   "metadata": {},
   "source": [
    "Another important distinction between variables and dataframes is that both will be held with the same convention, meaning a variable like x could also represent a dataframe or any other data type we assign it to. What you need to keep in mind is that when we are dealing with tabular data or a dataframe, a variable will be any of the columns of the dataframe, but when we are just manipulating different data types to do computations, a variable can be anything.\n",
    "\n",
    "Lastly, variable in a dataframe or in isolation can be thought of representations of a one-dimensional vector, and the data frame can be thought of a combination of vectors, a multidimensional vector, or a matrix. We will see later on how to create, manipulate, and work with vectors, and dataframes in python.\n",
    "\n",
    "Here are two ways of creating vector and a dataframe."
   ]
  },
  {
   "cell_type": "code",
   "execution_count": 25,
   "metadata": {},
   "outputs": [
    {
     "name": "stdout",
     "output_type": "stream",
     "text": [
      "  birthday  friend\n",
      "0       12     Doc\n",
      "1       21   Chloe\n",
      "2       30  Juanky\n",
      "3        8  Arelis\n",
      "4       23  Trisha\n"
     ]
    }
   ],
   "source": [
    "# First vector as a numpy array. These are my friends' birthdays.\n",
    "vec1 = np.array([12, 21, 30, 8, 23])\n",
    "\n",
    "# Second vector as a pandas series (this is just an array). These are my friends.\n",
    "vec2 = pd.Series(['Doc', 'Chloe', 'Juanky', 'Arelis', 'Trisha'])\n",
    "\n",
    "# Here we are combining both into a dataframe or a spreadsheet-like object.\n",
    "dataframe = pd.DataFrame(data=[vec1, vec2]).T\n",
    "\n",
    "# We want the columns to have names so we add them here.\n",
    "dataframe.columns = ['birthday', 'friend']\n",
    "\n",
    "# This line shows us our new dataframe consisting of two vectors we created ourselves.\n",
    "print(dataframe)"
   ]
  },
  {
   "cell_type": "markdown",
   "metadata": {},
   "source": [
    "- __Data Types__\n",
    "\n",
    "There are all sorts of data types that data analysts, scientists, and engineers use to represent the world around us. The most useful data types for our purposes will be integers, floats (e.g. a number with decimals or a fraction), booleans (e.g. True, False or 1 and 0, respectively), strings (e.g. word characters), and time (e.g. month, year, hour, minutes, etc.). Another data type in Python, and probably one of the most important ones, are lists. While variables in a dataframe can represent only one data type (e.g. and integer or a string), a variable containing lists can have multiple data types in it. Let's look at all of them separately."
   ]
  },
  {
   "cell_type": "code",
   "execution_count": 27,
   "metadata": {},
   "outputs": [
    {
     "name": "stdout",
     "output_type": "stream",
     "text": [
      "<class 'int'>\n"
     ]
    }
   ],
   "source": [
    "# This is an integer\n",
    "type_1 = 0\n",
    "print(type(type_1))"
   ]
  },
  {
   "cell_type": "code",
   "execution_count": 29,
   "metadata": {},
   "outputs": [
    {
     "name": "stdout",
     "output_type": "stream",
     "text": [
      "<class 'float'>\n"
     ]
    }
   ],
   "source": [
    "# This is a float\n",
    "type_2 = 1.75\n",
    "print(type(type_2))"
   ]
  },
  {
   "cell_type": "code",
   "execution_count": 30,
   "metadata": {},
   "outputs": [
    {
     "name": "stdout",
     "output_type": "stream",
     "text": [
      "<class 'bool'>\n"
     ]
    }
   ],
   "source": [
    "# This is a boolean\n",
    "type_3 = True\n",
    "print(type(type_3))"
   ]
  },
  {
   "cell_type": "code",
   "execution_count": 31,
   "metadata": {},
   "outputs": [
    {
     "name": "stdout",
     "output_type": "stream",
     "text": [
      "<class 'str'>\n"
     ]
    }
   ],
   "source": [
    "# This is a string\n",
    "type_4 = 'Hello World!'\n",
    "print(type(type_4))"
   ]
  },
  {
   "cell_type": "markdown",
   "metadata": {},
   "source": [
    "Remember, a vector or the column of a dataframe can be of only one datatype. This is an essential fact to keep in mind, especially when we begin analysing the data.\n",
    "\n",
    "### 3. Math in Python\n",
    "\n",
    "Python supports all kinds of calculations and data analyses and in this section, we'll go over all of the basic operations before diving deeper into data analysis."
   ]
  },
  {
   "cell_type": "code",
   "execution_count": 5,
   "metadata": {},
   "outputs": [],
   "source": [
    "# Let us begin with PEMDAS (Parenthesis, Exponents, Multiplication, Division, and Subtraction)"
   ]
  },
  {
   "cell_type": "code",
   "execution_count": 6,
   "metadata": {},
   "outputs": [
    {
     "name": "stdout",
     "output_type": "stream",
     "text": [
      "[1 2 3]\n"
     ]
    }
   ],
   "source": [
    "print(x)"
   ]
  },
  {
   "cell_type": "code",
   "execution_count": 7,
   "metadata": {},
   "outputs": [
    {
     "name": "stdout",
     "output_type": "stream",
     "text": [
      "<class 'numpy.ndarray'>\n"
     ]
    }
   ],
   "source": [
    "print(type(x))"
   ]
  },
  {
   "cell_type": "markdown",
   "metadata": {},
   "source": [
    "### 8. Resources\n",
    "\n",
    "- To learn more about Numpy https://numpy.org/\n",
    "- To learn more about pandas"
   ]
  },
  {
   "cell_type": "code",
   "execution_count": null,
   "metadata": {},
   "outputs": [],
   "source": []
  }
 ],
 "metadata": {
  "kernelspec": {
   "display_name": "Python 3",
   "language": "python",
   "name": "python3"
  },
  "language_info": {
   "codemirror_mode": {
    "name": "ipython",
    "version": 3
   },
   "file_extension": ".py",
   "mimetype": "text/x-python",
   "name": "python",
   "nbconvert_exporter": "python",
   "pygments_lexer": "ipython3",
   "version": "3.7.3"
  }
 },
 "nbformat": 4,
 "nbformat_minor": 2
}
