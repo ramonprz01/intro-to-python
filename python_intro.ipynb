{
 "cells": [
  {
   "cell_type": "markdown",
   "metadata": {},
   "source": [
    "# Welcome to Intro to Python\n",
    "\n",
    "This tutorial has been provided to you by the Student Succes Center at the John Hopkins Carey Business School. If you are unfamiliar with the Python programming language, and would like to learn more about it, you are in the right place.\n",
    "\n",
    "This is a short introduction to get you started writing Python code in less than an 2 hours. You will not need to install anything right now and will have additional (free) resources to continue your learning journey beyond this lesson. If you have any questions or comments, please send them to ramonprz01@gmail.com and aneuen@jhu.edu.\n",
    "\n",
    "This introduction assumes no prior knowledge of programming and only basic math skills acquired in high school.\n",
    "\n",
    "## Structure of the course\n",
    "\n",
    "1. Introduction\n",
    "    * What is Python?\n",
    "    * What are the most used Python Libraries?\n",
    "    * What is Data?\n",
    "    * What is Data Analysis?\n",
    "    * Most important libraries in Python\n",
    "2. Variables and Data Types\n",
    "3. Doing Math with Python\n",
    "4. Loading and Manipulating Data\n",
    "5. Data Analysis\n",
    "6. Conclusion\n",
    "7. Keep improving\n",
    "8. Resources\n",
    "\n"
   ]
  },
  {
   "cell_type": "markdown",
   "metadata": {},
   "source": [
    "### 1. Introduction\n",
    "\n",
    "* __What is Python?__\n",
    "\n",
    "As stated on [python.org](https://www.python.org/doc/essays/blurb/), \"Python is an interpreted, object-oriented, high-level programming language with dynamic semantics.\" This is a more specific way of saying that Python is a general purpose programming language that can be used for tasks ranging from building graphical user interface (GUI) applications to data analytics and machine learning. In fact Python's popularity in recent years has been driven partly due to is versatility and usage in data analytics and machine learning. It is now one of the (if not the) preferred choice for data scientists.\n",
    "\n",
    "To run Python code throughout this tutorial all you need to do is to press Shift-Enter and the cell will run the code.\n",
    "\n",
    "* __What are the most used Python Libraries?__\n",
    "\n",
    "Python has a plethora of libraries that are used by thousands of users each days. For data analysis though the most important ones are NumPy, Pandas, SciKit-Learn, matplotlib, and SciPy. I provide a short blurb of each below, the command you use to import each, and the standard alias used in industry (import \"name of library or module\" as \"nickname\").\n",
    "\n",
    "- _Numpy_:\n",
    "Numpy is a scientific computing package that allows anyone to do fast computations using vectors, matrices, and basically a lot of linear algebra. The following code would be what you would write and execute in order to import the library into a session.\n",
    "```python\n",
    "import numpy as np\n",
    "```\n",
    "- _Pandas_:\n",
    "```python\n",
    "import pandas as pd\n",
    "```\n",
    "- SciKit-Learn\n",
    "- SciPy\n",
    "- Matplotlib\n",
    "```python\n",
    "import matplotlib.pyplot as plt\n",
    "```\n",
    "\n",
    "More information on how to continue your learning journey, plus additional resources, will be provided in section 7 of this introductory tutorial of Python.\n",
    "\n",
    "We will now go ahead and import the libraries we will use for this tutorial.\n",
    "\n",
    "* __What is Data?__\n",
    "\n",
    "<img src=\"data.jpg\">\n",
    "\n",
    "Computer Hope defines Data the following way: \"data is any set of characters that is gathered and translated for some purpose, usually analysis. It can be any character, including text and numbers, pictures, sound, or video. If data is not put into context, it doesn't do anything to a human or computer.\"\n",
    "\n",
    "In essence, everything we do, from breathing to searching on the web, generates information in different formats and all can be classified as data. It is important to notice, however, that most of the data available in the world is unstructured, meanining not in a nice tabular format like we are used to with excel. We'll dive into the different data types in the next lesson."
   ]
  },
  {
   "cell_type": "code",
   "execution_count": 2,
   "metadata": {},
   "outputs": [
    {
     "name": "stderr",
     "output_type": "stream",
     "text": [
      "C:\\Users\\ramon\\Anaconda3\\lib\\importlib\\_bootstrap.py:219: RuntimeWarning: numpy.ufunc size changed, may indicate binary incompatibility. Expected 192 from C header, got 216 from PyObject\n",
      "  return f(*args, **kwds)\n"
     ]
    }
   ],
   "source": [
    "import numpy as np\n",
    "import pandas as pd\n",
    "import matplotlib.pyplot as plt"
   ]
  },
  {
   "cell_type": "markdown",
   "metadata": {},
   "source": [
    "### 2. Variables and Data Types\n",
    "\n",
    "Variables are the fuel of any data analysis, and these variables can be of multiple data types. To paint a better picture of what a variable is, think of an excel spreadsheet containing different characteristics of a building in the columns (e.g. floor area, address, price, # of rooms/floor, etc.) and different buildings in each row. The columns in this scenario will be the variables, and each number matching a row and a column is a data point. This is what we refer to as tabular data or in other words, a dataframe. Groups of variables contanining information can form a dataframe, and these variables can have none to lots of information about anything.\n",
    "\n",
    "Say we want to create a variable in python with just one data point"
   ]
  },
  {
   "cell_type": "code",
   "execution_count": 8,
   "metadata": {},
   "outputs": [],
   "source": [
    "x = 5"
   ]
  },
  {
   "cell_type": "markdown",
   "metadata": {},
   "source": [
    "Congrats! You just ran your first Python code.\n",
    "\n",
    "The letter x will hold the value of 5 for us and keep it safe until we tell it to do something with it. Let's give x a friend named y."
   ]
  },
  {
   "cell_type": "code",
   "execution_count": 9,
   "metadata": {},
   "outputs": [],
   "source": [
    "y = 7"
   ]
  },
  {
   "cell_type": "markdown",
   "metadata": {},
   "source": [
    "Now y will hold a number for us until we give it instructions of what to do with it.\n",
    "\n",
    "```python\n",
    "z = x + y\n",
    "print(z)\n",
    "```"
   ]
  },
  {
   "cell_type": "code",
   "execution_count": 5,
   "metadata": {},
   "outputs": [],
   "source": [
    "x = np.array([1, 2, 3])"
   ]
  },
  {
   "cell_type": "code",
   "execution_count": 6,
   "metadata": {},
   "outputs": [
    {
     "name": "stdout",
     "output_type": "stream",
     "text": [
      "[1 2 3]\n"
     ]
    }
   ],
   "source": [
    "print(x)"
   ]
  },
  {
   "cell_type": "code",
   "execution_count": 7,
   "metadata": {},
   "outputs": [
    {
     "name": "stdout",
     "output_type": "stream",
     "text": [
      "<class 'numpy.ndarray'>\n"
     ]
    }
   ],
   "source": [
    "print(type(x))"
   ]
  },
  {
   "cell_type": "markdown",
   "metadata": {},
   "source": [
    "### 8. Resources\n",
    "\n",
    "- To learn more about Numpy https://numpy.org/\n",
    "- To learn more about pandas"
   ]
  },
  {
   "cell_type": "code",
   "execution_count": null,
   "metadata": {},
   "outputs": [],
   "source": []
  }
 ],
 "metadata": {
  "kernelspec": {
   "display_name": "Python 3",
   "language": "python",
   "name": "python3"
  },
  "language_info": {
   "codemirror_mode": {
    "name": "ipython",
    "version": 3
   },
   "file_extension": ".py",
   "mimetype": "text/x-python",
   "name": "python",
   "nbconvert_exporter": "python",
   "pygments_lexer": "ipython3",
   "version": "3.7.3"
  }
 },
 "nbformat": 4,
 "nbformat_minor": 2
}
