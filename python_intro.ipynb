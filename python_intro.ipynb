{
 "cells": [
  {
   "cell_type": "markdown",
   "metadata": {},
   "source": [
    "# Welcome to Intro to Python"
   ]
  },
  {
   "cell_type": "markdown",
   "metadata": {},
   "source": [
    "This tutorial has been provided to you by the Student Succes Center at the Johns Hopkins Carey Business School. If you are unfamiliar with the Python programming language, and would like to learn more about it, you are in the right place. If you stumbled upon this tutorial and are wondering if you should go through with it, you are also in the right place.\n",
    "\n",
    "This short introduction is meant to get you started running and writing Python code in less than an 2 hours. You will not need to install anything for this tutorial and will have additional (free) resources to continue your learning journey beyond this lesson. If you have any questions or comments, please send them to me at ramonprz01@gmail.com and to Adrianna at aneuen@jhu.edu.\n",
    "\n",
    "This introduction assumes no prior knowledge of python and only basic math skills acquired in high school. Intuition acquired through exercises in Microsoft Excel is an advantage but not required.\n",
    "\n",
    "Why should you learn Python?\n",
    "Python is currently one of the most popular programming languages for data analysis, web applications and websites, and for artificial intelligence. Python is not only fun to learn and use but is also practical in the sense that it allows you to quickly scale your career without having to go back to university for a degree. Recent industry surveys have shown that [python developers](https://neuvoo.com/salary/?job=Python+Developer) make on average \\$120,000 per year while [data scientists using python](https://neuvoo.com/salary/?job=Python+data+scientist) (as opposed to R, see our other introductory course for more information) make around \\$140,000 per year, and the list does not stop there."
   ]
  },
  {
   "cell_type": "markdown",
   "metadata": {},
   "source": [
    "## Structure of the Tutorial"
   ]
  },
  {
   "cell_type": "markdown",
   "metadata": {},
   "source": [
    "1. Introduction\n",
    "    * What is Python?\n",
    "    * What are the most used Python Libraries?\n",
    "    * What is Data?\n",
    "    * What is Data Analysis?\n",
    "2. Variables and Data Types\n",
    "3. Math in Python\n",
    "4. Loading and Manipulating Data\n",
    "5. Data Analysis\n",
    "6. Conclusion\n",
    "7. Keep improving\n",
    "8. Resources\n",
    "\n",
    "\n",
    "More information on how to continue your learning journey, plus additional resources, will be provided in section 7 of this tutorial."
   ]
  },
  {
   "cell_type": "markdown",
   "metadata": {},
   "source": [
    "### 1. Introduction\n",
    "\n",
    "* __What is Python?__\n",
    "\n",
    "As stated on [python.org](https://www.python.org/doc/essays/blurb/), \"Python is an interpreted, object-oriented, high-level programming language with dynamic semantics.\" This is a more specific way of saying that Python is a general purpose programming language that can be used for tasks ranging from building graphical user interface (GUI) applications to data analytics and machine learning. In fact, Python's popularity in recent years has been driven partly due to its versatility and usage in data analytics and machine learning. It is now one of the (if not the) preferred programming language for data scientists, analysts, and researchers.\n",
    "\n",
    "To run Python code throughout this tutorial all you need to do is to press __Shift-Enter__ and the cell where you are in will be executed. Comments in Python will be preceeded by a __#__ sign.\n",
    "\n",
    "As awesome as Python is, it cannot do everything on its own, or at least with the base functionalities it comes with. This is where the beuty of open source comes in. Because Python is free and [open source](https://opensource.com/resources/what-open-source), Python has a vast amount analysts, researchers and developers contributing to its development through [libraries](https://www.quora.com/What-is-a-Python-library-and-what-can-I-use-it-for) that make it easier for users to get the best out of Python.\n",
    "\n",
    "A library or package in Python is essentialy a compilation of code made up of functions, classes, and specific instructions that make it easier for users to complete a specific task. This is part of what is called reusable code. If you spend countless hours developing code for a specific problem, chances are that you might need to reuse the code again in the future or that someone could benefit from you creation. We will not go in detail through all of Python's libraries in this tutorial, as that would not be feasible, but we will briefly introduce some of the most useful ones for data analysis here.\n",
    "\n",
    "* __What are some of the most widely used (and important) Python Libraries?__\n",
    "\n",
    "Python has a plethora of libraries that are used by thousands of users each days. For data analysis, however, the most important ones are NumPy, Pandas, SciKit-Learn, matplotlib, and SciPy. Below you will find a short blurb, the command you use to import each, and the standard aliases used in industry (import \"name_of_library_or_module\" as \"nickname\").\n",
    "\n",
    "Note: To load a library into your session you only need to run the cell once.\n",
    "\n",
    "- _Numpy:_\n",
    "Numpy is a scientific computing package that allows you to do fast computations using vectors, matrices, and basically a lot of linear algebra. The following code would be what you would write and execute in order to import the library into a session.\n",
    "```python\n",
    "import numpy as np\n",
    "```\n",
    "- _pandas:_\n",
    "pandas is a library that allows us to load, merge, and manipulate dataframes (think of these as excel spreadsheets) and makes it easier for us to analyze data.\n",
    "```python\n",
    "import pandas as pd\n",
    "```\n",
    "- _scikit-Learn:_\n",
    "scikit-learn or sk-learn is one of the most widely used libraries for machine learning. Because of its versatily and wide variety of modules (think of these as sub-libraries within sk-learn), one can run almost every machine learning algorithm available with this library.\n",
    "```python\n",
    "from sklearn import * # The asteric means import all modules in the library.\n",
    "```\n",
    "- _SciPy:_\n",
    "The [scipy library](https://www.scipy.org/scipylib/index.html) \"provides many user-friendly and efficient numerical routines such as routines for numerical integration, interpolation, optimization, linear algebra and statistics.\"\n",
    "\n",
    "```python\n",
    "from scipy import *\n",
    "```\n",
    "\n",
    "- _Matplotlib:_\n",
    "As stated on matplotlib's [website](https://matplotlib.org/), \"Matplotlib is a Python 2D plotting library which produces publication quality figures in a variety of hardcopy formats and interactive environments across platforms.\"\n",
    "```python\n",
    "import matplotlib.pyplot as plt\n",
    "```\n",
    "\n",
    "* __What is Data?__\n",
    "\n",
    "<img src=\"data.jpg\">\n",
    "\n",
    "[Computer Hope](https://www.computerhope.com/jargon/d/data.htm) defines \"__Data__\" in the following way: \"data is any set of characters that is gathered and translated for some purpose, usually analysis. It can be any character, including text and numbers, pictures, sound, or video. If data is not put into context, it doesn't do anything to a human or computer.\"\n",
    "\n",
    "In essence, everything we do, from breathing to searching on the web, generates information in different formats and all can be classified as data. It is important to notice, however, that most of the data available in the world is unstructured, meaning not in a nice tabular format like we are used to seeing and using in excel. We'll dive into the different data types in the next lesson.\n",
    "\n",
    "* __What is Data Analysis?__\n",
    "\n",
    "The best definition of what data analysis is comes from [wikipedia](https://en.wikipedia.org/wiki/Data_analysis) and it says \"Data analysis is a process of inspecting, cleansing, transforming and modeling data with the goal of discovering useful information, informing conclusions and supporting decision-making.\" Think about it this way, whenever we try to make a decision using evidence we need to put that same evidence in a format in which we can first make sense of it, second analyze it, and third, provide actionable insight using it. This is in a way the essence of data analysis, the cyclical process that drives decision-making. More on data analysis in the following sections tutorial.\n",
    "\n",
    "\n",
    "We will now go ahead and import the libraries we will be using in this tutorial. Remember, to run the cells jus press __Shift-Enter__."
   ]
  },
  {
   "cell_type": "code",
   "execution_count": 10,
   "metadata": {},
   "outputs": [],
   "source": [
    "# Let's import the libraries we will use throughout this tutorial.\n",
    "\n",
    "import numpy as np\n",
    "import pandas as pd\n",
    "import matplotlib.pyplot as plt"
   ]
  },
  {
   "cell_type": "markdown",
   "metadata": {},
   "source": [
    "#### Exercise 1\n",
    "Can you go online and find the __Seaborn__ library and import it below with its industry alias. We will need it later on."
   ]
  },
  {
   "cell_type": "code",
   "execution_count": null,
   "metadata": {},
   "outputs": [],
   "source": []
  },
  {
   "cell_type": "markdown",
   "metadata": {},
   "source": [
    "### 2. Variables and Data Types\n",
    "\n",
    "- __Variables__\n",
    "\n",
    "Variables are the fuel of any data analysis, and can represent a multitude of data types (e.g. word characters \"a, e, i, o, u\", decimal numbers \"10.65\", integers \"1, 2, 3\", etc.). To paint a better picture of how versitile variables are, think of an excel spreadsheet containing the characteristics of different buildings in the columns (e.g. floor area, address, price, # of rooms/floor, etc.) and the buildings in each row. The columns in this scenario will be the variables, and each number matching a row and a column is a data point showing the specifict characteristic of a building. This is what we refer to as tabular data or, in other words, a dataframe. Groups of variables contanining information can form a dataframe, and these variables can have none to lots of information in them. The picture below shows the example just mentioned.\n",
    "\n",
    "<img src=\"pic1.jpg\">\n",
    "\n",
    "It is important to keep in mind that when we pick a name for a variable in python it can only consist of letters, numbers and underscores. In addition, variables cannot start with a number.\n",
    "\n",
    "Say we want to create a variable in python with just one data point"
   ]
  },
  {
   "cell_type": "code",
   "execution_count": 11,
   "metadata": {},
   "outputs": [],
   "source": [
    "x = 5"
   ]
  },
  {
   "cell_type": "markdown",
   "metadata": {},
   "source": [
    "The letter x will hold the value of 5 for us and keep it safe until we tell it to do something with it. Let's give x a friend named y."
   ]
  },
  {
   "cell_type": "code",
   "execution_count": 12,
   "metadata": {},
   "outputs": [],
   "source": [
    "y = 7"
   ]
  },
  {
   "cell_type": "markdown",
   "metadata": {},
   "source": [
    "To observe the values of a variable or any other data type available during the session, we will use the command print().\n",
    "\n",
    "Note: you can also just run the variable without the print command but since these can be dataframes or other types of objects, this could take up a lot of space in your notebook."
   ]
  },
  {
   "cell_type": "code",
   "execution_count": 14,
   "metadata": {},
   "outputs": [
    {
     "name": "stdout",
     "output_type": "stream",
     "text": [
      "5\n",
      "5 7\n"
     ]
    }
   ],
   "source": [
    "print(x)\n",
    "# print() can hold more than 1 argument but they need to be separated by a comma.\n",
    "print(x, y)"
   ]
  },
  {
   "cell_type": "markdown",
   "metadata": {},
   "source": [
    "Say x and y become best friends, get married, and become family z. We can add them together in the following way."
   ]
  },
  {
   "cell_type": "code",
   "execution_count": 15,
   "metadata": {},
   "outputs": [
    {
     "name": "stdout",
     "output_type": "stream",
     "text": [
      "12\n"
     ]
    }
   ],
   "source": [
    "z = x + y\n",
    "print(z)"
   ]
  },
  {
   "cell_type": "markdown",
   "metadata": {},
   "source": [
    "Another important distinction between variables and dataframes is that both will be held with the same convention, meaning a variable like x could also represent a dataframe or any other data type we assign it to. What you need to keep in mind is that when we are dealing with tabular data or a dataframe, a variable will be any of the columns of the dataframe, but when we are just manipulating different data types to do computations, a variable can be anything.\n",
    "\n",
    "Lastly, variables in a dataframe or in isolation can be thought of as representations of one-dimensional vectors, and the data frame can be thought of a combination of vectors, a multidimensional vector, or a matrix. We will see later on how to create, manipulate, and work with vectors, and dataframes in python.\n",
    "\n",
    "Here are two ways of creating vectors and then combining them into a dataframe."
   ]
  },
  {
   "cell_type": "code",
   "execution_count": 18,
   "metadata": {},
   "outputs": [
    {
     "name": "stdout",
     "output_type": "stream",
     "text": [
      "[12 21 30  8 23] \n",
      " <class 'numpy.ndarray'>\n",
      "---------------------\n",
      "0       Doc\n",
      "1     Chloe\n",
      "2    Juanky\n",
      "3    Arelis\n",
      "4    Trisha\n",
      "dtype: object \n",
      " <class 'pandas.core.series.Series'>\n",
      "---------------------\n",
      "  birthday  friend\n",
      "0       12     Doc\n",
      "1       21   Chloe\n",
      "2       30  Juanky\n",
      "3        8  Arelis\n",
      "4       23  Trisha\n",
      "---------------------\n",
      "<class 'pandas.core.frame.DataFrame'>\n"
     ]
    }
   ],
   "source": [
    "# Our first vector is a numpy array. These are my friends' birthdays.\n",
    "vec1 = np.array([12, 21, 30, 8, 23])\n",
    "print(vec1, '\\n', type(vec1))\n",
    "print('---------------------')\n",
    "\n",
    "# Second vector as a pandas series (this is just an array or vector). These are my friends.\n",
    "vec2 = pd.Series(['Doc', 'Chloe', 'Juanky', 'Arelis', 'Trisha'])\n",
    "print(vec2, '\\n', type(vec2))\n",
    "print('---------------------')\n",
    "\n",
    "# Here we are combining both into a dataframe or a spreadsheet-like object.\n",
    "dataframe = pd.DataFrame(data=[vec1, vec2]).T\n",
    "\n",
    "# We want the columns to have names so we add them here.\n",
    "dataframe.columns = ['birthday', 'friend']\n",
    "\n",
    "# This line shows us our new dataframe consisting of two vectors we created ourselves.\n",
    "print(dataframe)\n",
    "print('---------------------')\n",
    "print(type(dataframe))"
   ]
  },
  {
   "cell_type": "markdown",
   "metadata": {},
   "source": [
    "Notice the difference between a vector created with the numpy and a vector created with pandas. Vectors with numpy are shown as a row in a spreadsheet while vectors in a series are represented as the column of a spreadsheet and automatically show an index. Indeces are one of the most important components of a dataframe as they allow us to locate information that matched a row and a column in relatively no time.\n",
    "\n",
    "The index of a vector in python always starts at 0. This means that the number 12 in *vec1* will have an index 0 and the number 30 will have an index of 2. If we would like to access a specific number in a vector we can use brackets [ ] to select the position of that number. For example."
   ]
  },
  {
   "cell_type": "code",
   "execution_count": 93,
   "metadata": {},
   "outputs": [
    {
     "name": "stdout",
     "output_type": "stream",
     "text": [
      "21\n"
     ]
    }
   ],
   "source": [
    "print(vec1[1])"
   ]
  },
  {
   "cell_type": "markdown",
   "metadata": {},
   "source": [
    "To select more than one number we can use the convention \\[start:end]. One thing to keep in mind is that in python when you slice a vector or a dataframe, the end number chosen by the command will always be one less than the number chosen by the analyst. See the example below. The indext three should give us the fourth number in our vector, 8, but instead it stops at 30."
   ]
  },
  {
   "cell_type": "code",
   "execution_count": 94,
   "metadata": {},
   "outputs": [
    {
     "name": "stdout",
     "output_type": "stream",
     "text": [
      "[12 21 30]\n"
     ]
    }
   ],
   "source": [
    "print(vec1[0:3])"
   ]
  },
  {
   "cell_type": "markdown",
   "metadata": {},
   "source": [
    "This works the same way with vectors containing sentences. In sentences or word vectors, every letter will have a location accessible through a slice. For example:"
   ]
  },
  {
   "cell_type": "code",
   "execution_count": 95,
   "metadata": {},
   "outputs": [
    {
     "name": "stdout",
     "output_type": "stream",
     "text": [
      "s\n",
      "This \n"
     ]
    }
   ],
   "source": [
    "sent = 'This is a sentence.'\n",
    "print(sent[3])\n",
    "print(sent[0:5])"
   ]
  },
  {
   "cell_type": "markdown",
   "metadata": {},
   "source": [
    "Lastly, we can asign slices of vectors to new variables and use them for computations."
   ]
  },
  {
   "cell_type": "code",
   "execution_count": 20,
   "metadata": {},
   "outputs": [
    {
     "name": "stdout",
     "output_type": "stream",
     "text": [
      "[21 30]\n"
     ]
    }
   ],
   "source": [
    "vec4 = vec1[1:3]\n",
    "print(vec4)"
   ]
  },
  {
   "cell_type": "markdown",
   "metadata": {},
   "source": [
    "- __Data Types__\n",
    "\n",
    "There are all sorts of data types that data analysts, scientists, and engineers use to represent the world around us. The most useful data types for our purposes will be integers, floats (e.g. a number with decimals or a fraction), booleans (e.g. True, False or 1 and 0, respectively), strings (e.g. word characters), and time (e.g. month, year, hour, minutes, etc.). Another data type in Python, and probably one of the most important ones, are lists. While variables in a dataframe can represent only one data type (e.g. and integer or a string), a variable containing lists can have multiple data types in it. Let's look at all of them separately."
   ]
  },
  {
   "cell_type": "code",
   "execution_count": 96,
   "metadata": {},
   "outputs": [
    {
     "name": "stdout",
     "output_type": "stream",
     "text": [
      "<class 'int'>\n"
     ]
    }
   ],
   "source": [
    "# This is an integer\n",
    "type_1 = 0\n",
    "print(type(type_1))"
   ]
  },
  {
   "cell_type": "code",
   "execution_count": 97,
   "metadata": {},
   "outputs": [
    {
     "name": "stdout",
     "output_type": "stream",
     "text": [
      "<class 'float'>\n"
     ]
    }
   ],
   "source": [
    "# This is a float\n",
    "type_2 = 1.75\n",
    "print(type(type_2))"
   ]
  },
  {
   "cell_type": "code",
   "execution_count": 98,
   "metadata": {},
   "outputs": [
    {
     "name": "stdout",
     "output_type": "stream",
     "text": [
      "<class 'bool'>\n"
     ]
    }
   ],
   "source": [
    "# This is a boolean\n",
    "type_3 = True\n",
    "print(type(type_3))"
   ]
  },
  {
   "cell_type": "code",
   "execution_count": 99,
   "metadata": {},
   "outputs": [
    {
     "name": "stdout",
     "output_type": "stream",
     "text": [
      "<class 'str'>\n"
     ]
    }
   ],
   "source": [
    "# This is a string\n",
    "type_4 = 'Hello World!'\n",
    "print(type(type_4))"
   ]
  },
  {
   "cell_type": "code",
   "execution_count": 22,
   "metadata": {},
   "outputs": [
    {
     "name": "stdout",
     "output_type": "stream",
     "text": [
      "<class 'list'>\n"
     ]
    }
   ],
   "source": [
    "# This is an empty list\n",
    "type_5 = []\n",
    "print(type(type_5))"
   ]
  },
  {
   "cell_type": "code",
   "execution_count": 25,
   "metadata": {},
   "outputs": [
    {
     "name": "stdout",
     "output_type": "stream",
     "text": [
      "<class 'list'> , still a list!\n"
     ]
    }
   ],
   "source": [
    "# This is a list containing different data types\n",
    "type_6 = [17, 'Hello World!', 4.5, True, 'tutorial', False]\n",
    "print(type(type_6), ', still a list!')"
   ]
  },
  {
   "cell_type": "markdown",
   "metadata": {},
   "source": [
    "The types above are some of the most important ones for any data analysis in python (and other programming languages as well) and you should be very comfortable with all of them as well as their funtionality. Time types such as dates and the like are also extremely important but because of the amount of information in that topic, we will not be covering it in this tutorial.\n",
    "\n",
    "Remember, a vector or the column of a dataframe should contain only one datatype unless it is a vector of lists. In that case, lists can contain multiple data types. This is an essential fact to keep in mind, especially when we begin analyzing the data.\n",
    "\n",
    "### 3. Math in Python\n",
    "\n",
    "Python supports all kinds of calculations and data analyses and in this section, we'll go over all of the basic operations this poweful tool can do for us."
   ]
  },
  {
   "cell_type": "code",
   "execution_count": 26,
   "metadata": {},
   "outputs": [
    {
     "name": "stdout",
     "output_type": "stream",
     "text": [
      "13\n",
      "5\n",
      "-6\n",
      "4.0\n",
      "49\n",
      "3\n"
     ]
    }
   ],
   "source": [
    "# Addition\n",
    "print(6 + 7)\n",
    "# Subtraction\n",
    "print(9 - 4)\n",
    "# Multiplication\n",
    "print(3 * -2)\n",
    "# Division\n",
    "print(24 / 6) # Please note that all divisions will return a float as opposed to an integer\n",
    "# Exponentiation\n",
    "print(7 ** 2)\n",
    "# Modulo\n",
    "print(21 % 9)"
   ]
  },
  {
   "cell_type": "code",
   "execution_count": 27,
   "metadata": {},
   "outputs": [
    {
     "name": "stdout",
     "output_type": "stream",
     "text": [
      "10\n"
     ]
    }
   ],
   "source": [
    "# Let's do the same but with variables now. Don't forget about PEMDAS\n",
    "# (Parenthesis, Exponents, Multiplication, Division, and Subtraction)\n",
    "\n",
    "# First we create two variables\n",
    "num1 = 7\n",
    "num2 = 3\n",
    "\n",
    "# Then we create a third one using the previous two\n",
    "new_var = num1 + num2\n",
    "print(new_var)"
   ]
  },
  {
   "cell_type": "code",
   "execution_count": 28,
   "metadata": {},
   "outputs": [
    {
     "name": "stdout",
     "output_type": "stream",
     "text": [
      "21\n",
      "2.1\n",
      "9.261000000000001\n",
      "11.361\n"
     ]
    }
   ],
   "source": [
    "new_var_2 = num1 * num2\n",
    "print(new_var_2)\n",
    "\n",
    "new_var_3 = (num1 * num2) / new_var\n",
    "print(new_var_3)\n",
    "\n",
    "new_var_4 = ((num1 * num2) / new_var) ** num2\n",
    "print(new_var_4)\n",
    "\n",
    "new_var_5 = (((num1 * num2) / new_var) ** num2) + new_var_3\n",
    "print(new_var_5)"
   ]
  },
  {
   "cell_type": "markdown",
   "metadata": {},
   "source": [
    "You can also do calculations using one column of a dataframe or several. For example you might have a column/variable that represents the prices of different kinds of ice cream bars. If you would like to know different kinds of statistics about this particular column, you could simply do computations on the entire column. Let's walk through an example."
   ]
  },
  {
   "cell_type": "code",
   "execution_count": 36,
   "metadata": {},
   "outputs": [
    {
     "data": {
      "text/plain": [
       "0    2.5\n",
       "1    3.1\n",
       "2    6.0\n",
       "3    4.6\n",
       "4    7.5\n",
       "dtype: float64"
      ]
     },
     "execution_count": 36,
     "metadata": {},
     "output_type": "execute_result"
    }
   ],
   "source": [
    "# We will call our column, prices\n",
    "\n",
    "prices = pd.Series([2.5, 3.10, 6, 4.6, 7.5, 5.2, 2.4])\n",
    "prices.head()"
   ]
  },
  {
   "cell_type": "code",
   "execution_count": 39,
   "metadata": {},
   "outputs": [
    {
     "name": "stdout",
     "output_type": "stream",
     "text": [
      "4.471428571428571\n",
      "31.299999999999997\n",
      "4.6\n",
      "7\n",
      "7\n"
     ]
    }
   ],
   "source": [
    "# Let's get the mean of all of our ice cream prices\n",
    "print(prices.mean())\n",
    "\n",
    "# Let's now get the total of the column\n",
    "print(prices.sum())\n",
    "\n",
    "# Let's not get the median\n",
    "print(prices.median())\n",
    "\n",
    "# Count\n",
    "print(prices.count())\n",
    "\n",
    "# Getting the count of how many values are in a vector can also be accomplished using len() as a function not a method\n",
    "print(len(prices))"
   ]
  },
  {
   "cell_type": "markdown",
   "metadata": {},
   "source": [
    "### 4. Data Analysis\n",
    "\n",
    "So far we have looked at what data analysis is, what are variables and dataframes, and how to use Python as a calculator. In this section, we will go over the basics of data analysis by following the principles of Eploratory Data Analysis (EDA).\n",
    "\n",
    "EDA is an initial approach to data analysis where the analyst focuses on thoroughly exploring the dataset to see if there are any interesting relationships that could be explored and/or exploited, and also to see if additional (or more interesting) questions come out after the initial view of the cleaned dataset. We will not deal with cleaning data in this tutorial, as that is a big topic in and of itself, but please keep in mind that data cleaning is one of the biggest components of the cycle of data analysis. In fact, analysts and data scientists can spend well over 50\\% of their time in a week only cleaning data. Resources on how to get started with data cleaning will be provided at the end. For now, the dataset we will be dealing with will have already been cleaned for us.\n",
    "\n",
    "This is by no means and exhaustive list of the steps needed for EDA but it does provide a starting point.\n",
    "\n",
    "1. Look at the data (description of variables, data types, and distribution of the data)\n",
    "2. Look for correlations or patterns that could provide insight\n",
    "3. Visualize these patters with bar plots, scatter plots, or box plots\n",
    "4. Conduct simple statistical analysis before diving deeper\n",
    "\n",
    "There are many ways in which we can read files into python, and there are also many formats to read files in. The formats you will probably work with the most are csv and excel, hence, we will only focus on those two in this tutorial. To read in files we will use pandas and we will also assign the dataframes to variables.\n",
    "\n",
    "```python\n",
    "import pandas as pd\n",
    "\n",
    "path = 'home/sarah/folder1/dataset1.csv' # Example of a path\n",
    "dataframe1 = pd.read_csv(path, options...)\n",
    "\n",
    "dataframe2 = pd.read_excel(path, options...)\n",
    "\n",
    "# Notice how the file and its extension have to be named at the end of the path and also how the path needs quotations.\n",
    "```\n",
    "\n",
    "For this section we will be using the Bank Marketing Data Set from the UCI Machine Learning Repository. To read more about the dataset please visit [https://archive.ics.uci.edu/ml/datasets/Bank+Marketing].\n",
    "\n",
    "Some of the most important commands for EDA are:\n",
    "\n",
    "```python\n",
    ".head()\n",
    ".tail()\n",
    ".describe()\n",
    ".shape()\n",
    ".info()\n",
    ".isnull()\n",
    ".dropna()\n",
    ".nunique()\n",
    "```\n",
    "Note: The above commands are called methods, and methods are applied directly after variables, dataframes, objects, stings, etc., and they are used in the same fashion using a period after the what we are calling the method on."
   ]
  },
  {
   "cell_type": "code",
   "execution_count": 103,
   "metadata": {},
   "outputs": [
    {
     "data": {
      "text/html": [
       "<div>\n",
       "<style scoped>\n",
       "    .dataframe tbody tr th:only-of-type {\n",
       "        vertical-align: middle;\n",
       "    }\n",
       "\n",
       "    .dataframe tbody tr th {\n",
       "        vertical-align: top;\n",
       "    }\n",
       "\n",
       "    .dataframe thead th {\n",
       "        text-align: right;\n",
       "    }\n",
       "</style>\n",
       "<table border=\"1\" class=\"dataframe\">\n",
       "  <thead>\n",
       "    <tr style=\"text-align: right;\">\n",
       "      <th></th>\n",
       "      <th>age</th>\n",
       "      <th>job</th>\n",
       "      <th>marital</th>\n",
       "      <th>education</th>\n",
       "      <th>default</th>\n",
       "      <th>balance</th>\n",
       "      <th>housing</th>\n",
       "      <th>loan</th>\n",
       "      <th>contact</th>\n",
       "      <th>day</th>\n",
       "      <th>month</th>\n",
       "      <th>duration</th>\n",
       "      <th>campaign</th>\n",
       "      <th>pdays</th>\n",
       "      <th>previous</th>\n",
       "      <th>poutcome</th>\n",
       "      <th>y</th>\n",
       "    </tr>\n",
       "  </thead>\n",
       "  <tbody>\n",
       "    <tr>\n",
       "      <th>0</th>\n",
       "      <td>58</td>\n",
       "      <td>management</td>\n",
       "      <td>married</td>\n",
       "      <td>tertiary</td>\n",
       "      <td>no</td>\n",
       "      <td>2143</td>\n",
       "      <td>yes</td>\n",
       "      <td>no</td>\n",
       "      <td>unknown</td>\n",
       "      <td>5</td>\n",
       "      <td>may</td>\n",
       "      <td>261</td>\n",
       "      <td>1</td>\n",
       "      <td>-1</td>\n",
       "      <td>0</td>\n",
       "      <td>unknown</td>\n",
       "      <td>no</td>\n",
       "    </tr>\n",
       "    <tr>\n",
       "      <th>1</th>\n",
       "      <td>44</td>\n",
       "      <td>technician</td>\n",
       "      <td>single</td>\n",
       "      <td>secondary</td>\n",
       "      <td>no</td>\n",
       "      <td>29</td>\n",
       "      <td>yes</td>\n",
       "      <td>no</td>\n",
       "      <td>unknown</td>\n",
       "      <td>5</td>\n",
       "      <td>may</td>\n",
       "      <td>151</td>\n",
       "      <td>1</td>\n",
       "      <td>-1</td>\n",
       "      <td>0</td>\n",
       "      <td>unknown</td>\n",
       "      <td>no</td>\n",
       "    </tr>\n",
       "    <tr>\n",
       "      <th>2</th>\n",
       "      <td>33</td>\n",
       "      <td>entrepreneur</td>\n",
       "      <td>married</td>\n",
       "      <td>secondary</td>\n",
       "      <td>no</td>\n",
       "      <td>2</td>\n",
       "      <td>yes</td>\n",
       "      <td>yes</td>\n",
       "      <td>unknown</td>\n",
       "      <td>5</td>\n",
       "      <td>may</td>\n",
       "      <td>76</td>\n",
       "      <td>1</td>\n",
       "      <td>-1</td>\n",
       "      <td>0</td>\n",
       "      <td>unknown</td>\n",
       "      <td>no</td>\n",
       "    </tr>\n",
       "    <tr>\n",
       "      <th>3</th>\n",
       "      <td>47</td>\n",
       "      <td>blue-collar</td>\n",
       "      <td>married</td>\n",
       "      <td>unknown</td>\n",
       "      <td>no</td>\n",
       "      <td>1506</td>\n",
       "      <td>yes</td>\n",
       "      <td>no</td>\n",
       "      <td>unknown</td>\n",
       "      <td>5</td>\n",
       "      <td>may</td>\n",
       "      <td>92</td>\n",
       "      <td>1</td>\n",
       "      <td>-1</td>\n",
       "      <td>0</td>\n",
       "      <td>unknown</td>\n",
       "      <td>no</td>\n",
       "    </tr>\n",
       "    <tr>\n",
       "      <th>4</th>\n",
       "      <td>33</td>\n",
       "      <td>unknown</td>\n",
       "      <td>single</td>\n",
       "      <td>unknown</td>\n",
       "      <td>no</td>\n",
       "      <td>1</td>\n",
       "      <td>no</td>\n",
       "      <td>no</td>\n",
       "      <td>unknown</td>\n",
       "      <td>5</td>\n",
       "      <td>may</td>\n",
       "      <td>198</td>\n",
       "      <td>1</td>\n",
       "      <td>-1</td>\n",
       "      <td>0</td>\n",
       "      <td>unknown</td>\n",
       "      <td>no</td>\n",
       "    </tr>\n",
       "  </tbody>\n",
       "</table>\n",
       "</div>"
      ],
      "text/plain": [
       "   age           job  marital  education default  balance housing loan  \\\n",
       "0   58    management  married   tertiary      no     2143     yes   no   \n",
       "1   44    technician   single  secondary      no       29     yes   no   \n",
       "2   33  entrepreneur  married  secondary      no        2     yes  yes   \n",
       "3   47   blue-collar  married    unknown      no     1506     yes   no   \n",
       "4   33       unknown   single    unknown      no        1      no   no   \n",
       "\n",
       "   contact  day month  duration  campaign  pdays  previous poutcome   y  \n",
       "0  unknown    5   may       261         1     -1         0  unknown  no  \n",
       "1  unknown    5   may       151         1     -1         0  unknown  no  \n",
       "2  unknown    5   may        76         1     -1         0  unknown  no  \n",
       "3  unknown    5   may        92         1     -1         0  unknown  no  \n",
       "4  unknown    5   may       198         1     -1         0  unknown  no  "
      ]
     },
     "execution_count": 103,
     "metadata": {},
     "output_type": "execute_result"
    }
   ],
   "source": [
    "# Let's create a variable with our path\n",
    "path = 'https://raw.githubusercontent.com/ramonprz01/intro-to-python/master/bank-full.csv'\n",
    "\n",
    "# Let's use the path inside the pd.read_csv along with the sep option. This tells python that every data point\n",
    "# per column is separated by a ';'.\n",
    "df = pd.read_csv(path, sep = ';')\n",
    "\n",
    "# When we apply the method .head() to a pandas dataframe or a series, it will show us the first 5 rows of the\n",
    "# dataset along with all of its columns. You can pass any number inside the parenthesis and it will return that\n",
    "# amount of rows.\n",
    "df.head()"
   ]
  },
  {
   "cell_type": "code",
   "execution_count": 104,
   "metadata": {},
   "outputs": [
    {
     "data": {
      "text/html": [
       "<div>\n",
       "<style scoped>\n",
       "    .dataframe tbody tr th:only-of-type {\n",
       "        vertical-align: middle;\n",
       "    }\n",
       "\n",
       "    .dataframe tbody tr th {\n",
       "        vertical-align: top;\n",
       "    }\n",
       "\n",
       "    .dataframe thead th {\n",
       "        text-align: right;\n",
       "    }\n",
       "</style>\n",
       "<table border=\"1\" class=\"dataframe\">\n",
       "  <thead>\n",
       "    <tr style=\"text-align: right;\">\n",
       "      <th></th>\n",
       "      <th>age</th>\n",
       "      <th>job</th>\n",
       "      <th>marital</th>\n",
       "      <th>education</th>\n",
       "      <th>default</th>\n",
       "      <th>balance</th>\n",
       "      <th>housing</th>\n",
       "      <th>loan</th>\n",
       "      <th>contact</th>\n",
       "      <th>day</th>\n",
       "      <th>month</th>\n",
       "      <th>duration</th>\n",
       "      <th>campaign</th>\n",
       "      <th>pdays</th>\n",
       "      <th>previous</th>\n",
       "      <th>poutcome</th>\n",
       "      <th>y</th>\n",
       "    </tr>\n",
       "  </thead>\n",
       "  <tbody>\n",
       "    <tr>\n",
       "      <th>45206</th>\n",
       "      <td>51</td>\n",
       "      <td>technician</td>\n",
       "      <td>married</td>\n",
       "      <td>tertiary</td>\n",
       "      <td>no</td>\n",
       "      <td>825</td>\n",
       "      <td>no</td>\n",
       "      <td>no</td>\n",
       "      <td>cellular</td>\n",
       "      <td>17</td>\n",
       "      <td>nov</td>\n",
       "      <td>977</td>\n",
       "      <td>3</td>\n",
       "      <td>-1</td>\n",
       "      <td>0</td>\n",
       "      <td>unknown</td>\n",
       "      <td>yes</td>\n",
       "    </tr>\n",
       "    <tr>\n",
       "      <th>45207</th>\n",
       "      <td>71</td>\n",
       "      <td>retired</td>\n",
       "      <td>divorced</td>\n",
       "      <td>primary</td>\n",
       "      <td>no</td>\n",
       "      <td>1729</td>\n",
       "      <td>no</td>\n",
       "      <td>no</td>\n",
       "      <td>cellular</td>\n",
       "      <td>17</td>\n",
       "      <td>nov</td>\n",
       "      <td>456</td>\n",
       "      <td>2</td>\n",
       "      <td>-1</td>\n",
       "      <td>0</td>\n",
       "      <td>unknown</td>\n",
       "      <td>yes</td>\n",
       "    </tr>\n",
       "    <tr>\n",
       "      <th>45208</th>\n",
       "      <td>72</td>\n",
       "      <td>retired</td>\n",
       "      <td>married</td>\n",
       "      <td>secondary</td>\n",
       "      <td>no</td>\n",
       "      <td>5715</td>\n",
       "      <td>no</td>\n",
       "      <td>no</td>\n",
       "      <td>cellular</td>\n",
       "      <td>17</td>\n",
       "      <td>nov</td>\n",
       "      <td>1127</td>\n",
       "      <td>5</td>\n",
       "      <td>184</td>\n",
       "      <td>3</td>\n",
       "      <td>success</td>\n",
       "      <td>yes</td>\n",
       "    </tr>\n",
       "    <tr>\n",
       "      <th>45209</th>\n",
       "      <td>57</td>\n",
       "      <td>blue-collar</td>\n",
       "      <td>married</td>\n",
       "      <td>secondary</td>\n",
       "      <td>no</td>\n",
       "      <td>668</td>\n",
       "      <td>no</td>\n",
       "      <td>no</td>\n",
       "      <td>telephone</td>\n",
       "      <td>17</td>\n",
       "      <td>nov</td>\n",
       "      <td>508</td>\n",
       "      <td>4</td>\n",
       "      <td>-1</td>\n",
       "      <td>0</td>\n",
       "      <td>unknown</td>\n",
       "      <td>no</td>\n",
       "    </tr>\n",
       "    <tr>\n",
       "      <th>45210</th>\n",
       "      <td>37</td>\n",
       "      <td>entrepreneur</td>\n",
       "      <td>married</td>\n",
       "      <td>secondary</td>\n",
       "      <td>no</td>\n",
       "      <td>2971</td>\n",
       "      <td>no</td>\n",
       "      <td>no</td>\n",
       "      <td>cellular</td>\n",
       "      <td>17</td>\n",
       "      <td>nov</td>\n",
       "      <td>361</td>\n",
       "      <td>2</td>\n",
       "      <td>188</td>\n",
       "      <td>11</td>\n",
       "      <td>other</td>\n",
       "      <td>no</td>\n",
       "    </tr>\n",
       "  </tbody>\n",
       "</table>\n",
       "</div>"
      ],
      "text/plain": [
       "       age           job   marital  education default  balance housing loan  \\\n",
       "45206   51    technician   married   tertiary      no      825      no   no   \n",
       "45207   71       retired  divorced    primary      no     1729      no   no   \n",
       "45208   72       retired   married  secondary      no     5715      no   no   \n",
       "45209   57   blue-collar   married  secondary      no      668      no   no   \n",
       "45210   37  entrepreneur   married  secondary      no     2971      no   no   \n",
       "\n",
       "         contact  day month  duration  campaign  pdays  previous poutcome    y  \n",
       "45206   cellular   17   nov       977         3     -1         0  unknown  yes  \n",
       "45207   cellular   17   nov       456         2     -1         0  unknown  yes  \n",
       "45208   cellular   17   nov      1127         5    184         3  success  yes  \n",
       "45209  telephone   17   nov       508         4     -1         0  unknown   no  \n",
       "45210   cellular   17   nov       361         2    188        11    other   no  "
      ]
     },
     "execution_count": 104,
     "metadata": {},
     "output_type": "execute_result"
    }
   ],
   "source": [
    "df.tail()"
   ]
  },
  {
   "cell_type": "code",
   "execution_count": 105,
   "metadata": {},
   "outputs": [
    {
     "data": {
      "text/html": [
       "<div>\n",
       "<style scoped>\n",
       "    .dataframe tbody tr th:only-of-type {\n",
       "        vertical-align: middle;\n",
       "    }\n",
       "\n",
       "    .dataframe tbody tr th {\n",
       "        vertical-align: top;\n",
       "    }\n",
       "\n",
       "    .dataframe thead th {\n",
       "        text-align: right;\n",
       "    }\n",
       "</style>\n",
       "<table border=\"1\" class=\"dataframe\">\n",
       "  <thead>\n",
       "    <tr style=\"text-align: right;\">\n",
       "      <th></th>\n",
       "      <th>age</th>\n",
       "      <th>balance</th>\n",
       "      <th>day</th>\n",
       "      <th>duration</th>\n",
       "      <th>campaign</th>\n",
       "      <th>pdays</th>\n",
       "      <th>previous</th>\n",
       "    </tr>\n",
       "  </thead>\n",
       "  <tbody>\n",
       "    <tr>\n",
       "      <th>count</th>\n",
       "      <td>45211.000000</td>\n",
       "      <td>45211.000000</td>\n",
       "      <td>45211.000000</td>\n",
       "      <td>45211.000000</td>\n",
       "      <td>45211.000000</td>\n",
       "      <td>45211.000000</td>\n",
       "      <td>45211.000000</td>\n",
       "    </tr>\n",
       "    <tr>\n",
       "      <th>mean</th>\n",
       "      <td>40.936210</td>\n",
       "      <td>1362.272058</td>\n",
       "      <td>15.806419</td>\n",
       "      <td>258.163080</td>\n",
       "      <td>2.763841</td>\n",
       "      <td>40.197828</td>\n",
       "      <td>0.580323</td>\n",
       "    </tr>\n",
       "    <tr>\n",
       "      <th>std</th>\n",
       "      <td>10.618762</td>\n",
       "      <td>3044.765829</td>\n",
       "      <td>8.322476</td>\n",
       "      <td>257.527812</td>\n",
       "      <td>3.098021</td>\n",
       "      <td>100.128746</td>\n",
       "      <td>2.303441</td>\n",
       "    </tr>\n",
       "    <tr>\n",
       "      <th>min</th>\n",
       "      <td>18.000000</td>\n",
       "      <td>-8019.000000</td>\n",
       "      <td>1.000000</td>\n",
       "      <td>0.000000</td>\n",
       "      <td>1.000000</td>\n",
       "      <td>-1.000000</td>\n",
       "      <td>0.000000</td>\n",
       "    </tr>\n",
       "    <tr>\n",
       "      <th>25%</th>\n",
       "      <td>33.000000</td>\n",
       "      <td>72.000000</td>\n",
       "      <td>8.000000</td>\n",
       "      <td>103.000000</td>\n",
       "      <td>1.000000</td>\n",
       "      <td>-1.000000</td>\n",
       "      <td>0.000000</td>\n",
       "    </tr>\n",
       "    <tr>\n",
       "      <th>50%</th>\n",
       "      <td>39.000000</td>\n",
       "      <td>448.000000</td>\n",
       "      <td>16.000000</td>\n",
       "      <td>180.000000</td>\n",
       "      <td>2.000000</td>\n",
       "      <td>-1.000000</td>\n",
       "      <td>0.000000</td>\n",
       "    </tr>\n",
       "    <tr>\n",
       "      <th>75%</th>\n",
       "      <td>48.000000</td>\n",
       "      <td>1428.000000</td>\n",
       "      <td>21.000000</td>\n",
       "      <td>319.000000</td>\n",
       "      <td>3.000000</td>\n",
       "      <td>-1.000000</td>\n",
       "      <td>0.000000</td>\n",
       "    </tr>\n",
       "    <tr>\n",
       "      <th>max</th>\n",
       "      <td>95.000000</td>\n",
       "      <td>102127.000000</td>\n",
       "      <td>31.000000</td>\n",
       "      <td>4918.000000</td>\n",
       "      <td>63.000000</td>\n",
       "      <td>871.000000</td>\n",
       "      <td>275.000000</td>\n",
       "    </tr>\n",
       "  </tbody>\n",
       "</table>\n",
       "</div>"
      ],
      "text/plain": [
       "                age        balance           day      duration      campaign  \\\n",
       "count  45211.000000   45211.000000  45211.000000  45211.000000  45211.000000   \n",
       "mean      40.936210    1362.272058     15.806419    258.163080      2.763841   \n",
       "std       10.618762    3044.765829      8.322476    257.527812      3.098021   \n",
       "min       18.000000   -8019.000000      1.000000      0.000000      1.000000   \n",
       "25%       33.000000      72.000000      8.000000    103.000000      1.000000   \n",
       "50%       39.000000     448.000000     16.000000    180.000000      2.000000   \n",
       "75%       48.000000    1428.000000     21.000000    319.000000      3.000000   \n",
       "max       95.000000  102127.000000     31.000000   4918.000000     63.000000   \n",
       "\n",
       "              pdays      previous  \n",
       "count  45211.000000  45211.000000  \n",
       "mean      40.197828      0.580323  \n",
       "std      100.128746      2.303441  \n",
       "min       -1.000000      0.000000  \n",
       "25%       -1.000000      0.000000  \n",
       "50%       -1.000000      0.000000  \n",
       "75%       -1.000000      0.000000  \n",
       "max      871.000000    275.000000  "
      ]
     },
     "execution_count": 105,
     "metadata": {},
     "output_type": "execute_result"
    }
   ],
   "source": [
    "df.describe()"
   ]
  },
  {
   "cell_type": "code",
   "execution_count": 106,
   "metadata": {},
   "outputs": [
    {
     "name": "stdout",
     "output_type": "stream",
     "text": [
      "<class 'pandas.core.frame.DataFrame'>\n",
      "RangeIndex: 45211 entries, 0 to 45210\n",
      "Data columns (total 17 columns):\n",
      "age          45211 non-null int64\n",
      "job          45211 non-null object\n",
      "marital      45211 non-null object\n",
      "education    45211 non-null object\n",
      "default      45211 non-null object\n",
      "balance      45211 non-null int64\n",
      "housing      45211 non-null object\n",
      "loan         45211 non-null object\n",
      "contact      45211 non-null object\n",
      "day          45211 non-null int64\n",
      "month        45211 non-null object\n",
      "duration     45211 non-null int64\n",
      "campaign     45211 non-null int64\n",
      "pdays        45211 non-null int64\n",
      "previous     45211 non-null int64\n",
      "poutcome     45211 non-null object\n",
      "y            45211 non-null object\n",
      "dtypes: int64(7), object(10)\n",
      "memory usage: 5.9+ MB\n"
     ]
    }
   ],
   "source": [
    "df.info()"
   ]
  },
  {
   "cell_type": "code",
   "execution_count": 107,
   "metadata": {},
   "outputs": [
    {
     "name": "stdout",
     "output_type": "stream",
     "text": [
      "(45211, 17)\n"
     ]
    }
   ],
   "source": [
    "print(df.shape)"
   ]
  },
  {
   "cell_type": "code",
   "execution_count": 108,
   "metadata": {},
   "outputs": [
    {
     "name": "stdout",
     "output_type": "stream",
     "text": [
      "age          0\n",
      "job          0\n",
      "marital      0\n",
      "education    0\n",
      "default      0\n",
      "balance      0\n",
      "housing      0\n",
      "loan         0\n",
      "contact      0\n",
      "day          0\n",
      "month        0\n",
      "duration     0\n",
      "campaign     0\n",
      "pdays        0\n",
      "previous     0\n",
      "poutcome     0\n",
      "y            0\n",
      "dtype: int64\n"
     ]
    }
   ],
   "source": [
    "print(df.isnull().sum())"
   ]
  },
  {
   "cell_type": "code",
   "execution_count": 109,
   "metadata": {},
   "outputs": [
    {
     "data": {
      "text/plain": [
       "age            77\n",
       "job            12\n",
       "marital         3\n",
       "education       4\n",
       "default         2\n",
       "balance      7168\n",
       "housing         2\n",
       "loan            2\n",
       "contact         3\n",
       "day            31\n",
       "month          12\n",
       "duration     1573\n",
       "campaign       48\n",
       "pdays         559\n",
       "previous       41\n",
       "poutcome        4\n",
       "y               2\n",
       "dtype: int64"
      ]
     },
     "execution_count": 109,
     "metadata": {},
     "output_type": "execute_result"
    }
   ],
   "source": [
    "df.nunique()"
   ]
  },
  {
   "cell_type": "code",
   "execution_count": 110,
   "metadata": {},
   "outputs": [
    {
     "data": {
      "image/png": "[encoded data removed]",
      "text/plain": [
       "<Figure size 432x288 with 1 Axes>"
      ]
     },
     "metadata": {
      "needs_background": "light"
     },
     "output_type": "display_data"
    }
   ],
   "source": [
    "plt.scatter(df.age, df.balance)\n",
    "plt.xlabel('Age')\n",
    "plt.ylabel('Balance')\n",
    "plt.show()"
   ]
  },
  {
   "cell_type": "code",
   "execution_count": 111,
   "metadata": {},
   "outputs": [
    {
     "data": {
      "text/plain": [
       "array([[1.        , 0.09778274],\n",
       "       [0.09778274, 1.        ]])"
      ]
     },
     "execution_count": 111,
     "metadata": {},
     "output_type": "execute_result"
    }
   ],
   "source": [
    "np.corrcoef(df.age, df.balance)"
   ]
  },
  {
   "cell_type": "markdown",
   "metadata": {},
   "source": [
    "### 6. Conclusion\n",
    "\n",
    "We have seen so far in this tutorial a bit of Python and how to use it for data analysis. We have learned how to load different libraries, create and manipulate variables, use Python as a calculator, and even load and visualize data. Our hope is that this short tutorial will help you get started with Python and hopefully encourage you to want to learn more about the language.\n",
    "\n",
    "Remember, data analysis is a key component of everything that sorrounds us. Businesses, academia, non-profit organizations, and many others, rely on data analysts to continue functioning efficiently. If you'd like to enhance your skills to get a promotion, start a new company, develop a personal project, or just be able to do well in one of Carey's quantitative courses, chances are that knowing how to manipulate data at will, will at the very least, help you accomplish this."
   ]
  },
  {
   "cell_type": "markdown",
   "metadata": {},
   "source": [
    "### 7. Keep Improving"
   ]
  },
  {
   "cell_type": "markdown",
   "metadata": {},
   "source": [
    "### 8. Resources\n",
    "\n",
    "Now that you have finished this introduction to Python, here are some resources to get you started with installation and learning path. Remember, constant improvement is much better than a one day a week, 2-weeks, once a month, etc., commitment. Create your own learning path, and make sure to keep track of it. For this purpose, I have found [trello](trello.com) an outstanding resource to keep track of your projects or any other goal or project that needs to be tracked.\n",
    "\n",
    "##### Learning Path\n",
    "\n",
    "1.\n",
    "2.\n",
    "3.\n",
    "4.\n",
    "5.\n",
    "6.\n",
    "7.\n",
    "8.\n",
    "9.\n",
    "10.\n",
    "\n",
    "* Best books:\n",
    "\n",
    "\n",
    "* Best websites:\n",
    "    - [Codecademy](codecademy.com).\n",
    "    - [Treehouse](https://teamtreehouse.com/library).\n",
    "    - To learn more about [Numpy](https://numpy.org/).\n",
    "    - To learn more about [pandas](https://pandas.pydata.org/).\n",
    "\n",
    "* Best for on the go learning:\n",
    "    - [SoloLearn](https://www.sololearn.com/)\n",
    "    - [Brilliant](brilliant.org)"
   ]
  },
  {
   "cell_type": "code",
   "execution_count": null,
   "metadata": {},
   "outputs": [],
   "source": []
  }
 ],
 "metadata": {
  "kernelspec": {
   "display_name": "Python 3",
   "language": "python",
   "name": "python3"
  },
  "language_info": {
   "codemirror_mode": {
    "name": "ipython",
    "version": 3
   },
   "file_extension": ".py",
   "mimetype": "text/x-python",
   "name": "python",
   "nbconvert_exporter": "python",
   "pygments_lexer": "ipython3",
   "version": "3.7.3"
  }
 },
 "nbformat": 4,
 "nbformat_minor": 2
}
